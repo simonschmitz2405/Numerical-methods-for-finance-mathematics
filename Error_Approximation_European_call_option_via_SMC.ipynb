{
 "cells": [
  {
   "cell_type": "markdown",
   "metadata": {},
   "source": [
    "# Approximation Error European Call option\n",
    "\n",
    "## Description\n",
    "\n",
    "This implementation compares the analytical value of a European call option via the Black-Scholes formula with the approximated value via standard Monte Carlo integration.\n",
    "\n",
    "## Implementation\n",
    "\n",
    "In the following the Implementation is done.\n",
    "First we have to import the necessary libraries."
   ]
  },
  {
   "cell_type": "code",
   "execution_count": 3,
   "metadata": {},
   "outputs": [],
   "source": [
    "import numpy as np\n",
    "import matplotlib.pyplot as plt\n",
    "from scipy.stats import norm"
   ]
  },
  {
   "cell_type": "markdown",
   "metadata": {},
   "source": [
    "Next the Parameters have to be defined. \n"
   ]
  },
  {
   "cell_type": "code",
   "execution_count": 4,
   "metadata": {},
   "outputs": [],
   "source": [
    "K = 100 # Strike price\n",
    "S = 90 # Stock initial value\n",
    "r = 0.02 # interest rate\n",
    "sigma = 0.2 # Volatility\n",
    "T = 10 # Maturity\n",
    "Number_samples = 2**18 # Number of samples\n",
    "Number_batches = 25\n",
    "Number_sample_sizes = 12"
   ]
  }
 ],
 "metadata": {
  "kernelspec": {
   "display_name": "Python 3",
   "language": "python",
   "name": "python3"
  },
  "language_info": {
   "codemirror_mode": {
    "name": "ipython",
    "version": 3
   },
   "file_extension": ".py",
   "mimetype": "text/x-python",
   "name": "python",
   "nbconvert_exporter": "python",
   "pygments_lexer": "ipython3",
   "version": "3.11.0"
  }
 },
 "nbformat": 4,
 "nbformat_minor": 2
}
